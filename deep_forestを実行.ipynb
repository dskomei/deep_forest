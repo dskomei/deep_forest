{
 "cells": [
  {
   "cell_type": "markdown",
   "metadata": {},
   "source": [
    "# Deep Forestを実行する\n",
    "Deep Forestの実装部分においては以下のGithubのコードを拝借した。  \n",
    "https://github.com/leopiney/deep-forest"
   ]
  },
  {
   "cell_type": "code",
   "execution_count": 1,
   "metadata": {
    "collapsed": false,
    "deletable": true,
    "editable": true,
    "jupyter": {
     "outputs_hidden": false
    }
   },
   "outputs": [],
   "source": [
    "from pathlib import Path\n",
    "import numpy as np\n",
    "import random\n",
    "import uuid\n",
    "import time\n",
    "\n",
    "from keras.datasets import mnist\n",
    "from sklearn.ensemble import ExtraTreesClassifier, RandomForestClassifier\n",
    "from sklearn.metrics import *\n",
    "from sklearn.model_selection import train_test_split\n",
    "from sklearn.model_selection import cross_val_score\n",
    "from sklearn.model_selection import KFold\n",
    "from sklearn.model_selection import StratifiedKFold\n",
    "from sklearn import datasets\n",
    "import xgboost as xgb\n",
    "\n",
    "from deep_forest import MGCForest"
   ]
  },
  {
   "cell_type": "code",
   "execution_count": 2,
   "metadata": {},
   "outputs": [],
   "source": [
    "%load_ext autoreload\n",
    "%autoreload 2\n",
    "pd.set_option(\"max_columns\", 1000)"
   ]
  },
  {
   "cell_type": "code",
   "execution_count": 3,
   "metadata": {},
   "outputs": [],
   "source": [
    "result_dir_path = Path(\"result\")\n",
    "if not result_dir_path.exists():\n",
    "    result_dir_path.mkdir(parents=True)"
   ]
  },
  {
   "cell_type": "markdown",
   "metadata": {},
   "source": [
    "## Deep_Forestを構築する"
   ]
  },
  {
   "cell_type": "code",
   "execution_count": 4,
   "metadata": {
    "collapsed": false,
    "editable": true,
    "jupyter": {
     "outputs_hidden": false
    },
    "scrolled": true
   },
   "outputs": [],
   "source": [
    "n_estimators_mgs = 30\n",
    "n_estimators_cascade = 100\n",
    "\n",
    "mgc_forest = MGCForest(\n",
    "    estimators_config={\n",
    "        'mgs': [{\n",
    "            'estimator_class': ExtraTreesClassifier,\n",
    "            'estimator_params': {\n",
    "                'n_estimators': n_estimators_mgs,\n",
    "                'n_jobs': -1,\n",
    "            }\n",
    "        }, {\n",
    "            'estimator_class': RandomForestClassifier,\n",
    "            'estimator_params': {\n",
    "                'n_estimators': n_estimators_mgs,\n",
    "                'n_jobs': -1,\n",
    "            }\n",
    "        }],\n",
    "        'cascade': [{\n",
    "            'estimator_class': ExtraTreesClassifier,\n",
    "            'estimator_params': {\n",
    "                'n_estimators': n_estimators_cascade,\n",
    "                'max_features': 1,\n",
    "                'n_jobs': -1,\n",
    "            }\n",
    "        }, {\n",
    "            'estimator_class': ExtraTreesClassifier,\n",
    "            'estimator_params': {\n",
    "                'n_estimators': n_estimators_cascade,\n",
    "                'max_features': 'sqrt',\n",
    "                'n_jobs': -1,\n",
    "            }\n",
    "        }, {\n",
    "            'estimator_class': RandomForestClassifier,\n",
    "            'estimator_params': {\n",
    "                'n_estimators': n_estimators_cascade,\n",
    "                'max_features': 1,\n",
    "                'n_jobs': -1,\n",
    "            }\n",
    "        }, {\n",
    "            'estimator_class': RandomForestClassifier,\n",
    "            'estimator_params': {\n",
    "                'n_estimators': n_estimators_cascade,\n",
    "                'max_features': 'sqrt',\n",
    "                'n_jobs': -1,\n",
    "            }\n",
    "        }]\n",
    "    },\n",
    "    stride_ratios=[1.0 / 4, 1.0 / 9, 1.0 / 16],\n",
    "    verbose=False\n",
    ")"
   ]
  },
  {
   "cell_type": "markdown",
   "metadata": {},
   "source": [
    "比較用のモデルを構築する"
   ]
  },
  {
   "cell_type": "code",
   "execution_count": 5,
   "metadata": {},
   "outputs": [],
   "source": [
    "rf_model = RandomForestClassifier(max_depth=10, n_estimators=100)\n",
    "xgb_model = xgb.XGBClassifier(max_depth=10, n_estimators=100)\n",
    "\n",
    "model_dict = {\n",
    "    \"rf\" : rf_model,\n",
    "    \"xgb\" : xgb_model,\n",
    "    \"mgc_forest\" : mgc_forest\n",
    "}"
   ]
  },
  {
   "cell_type": "code",
   "execution_count": 6,
   "metadata": {},
   "outputs": [],
   "source": [
    "def cross_val_scores_fn(model, X_data, y_data, n_splits, shuffle=False):\n",
    "    \n",
    "    kfold = StratifiedKFold(n_splits=n_splits, shuffle=shuffle)\n",
    "\n",
    "    cvs_list, elapsed_time_list = [], []\n",
    "    for train_indexes, test_indexes in kfold.split(X_data, y_data):\n",
    "\n",
    "        X_train = X_data[train_indexes]\n",
    "        y_train = y_data[train_indexes]\n",
    "        X_test = X_data[test_indexes]\n",
    "        y_test = y_data[test_indexes]\n",
    "        \n",
    "        start_time = time.time()\n",
    "        \n",
    "        model.fit(X_train, y_train)\n",
    "        \n",
    "        end_time = time.time()\n",
    "        \n",
    "        pred = model.predict(X_test)\n",
    "\n",
    "        cvs_list.append(accuracy_score(y_test, pred))\n",
    "        elapsed_time_list.append(end_time - start_time)\n",
    "\n",
    "    return np.round(cvs_list, 3).tolist(), np.round(elapsed_time_list, 2).tolist()"
   ]
  },
  {
   "cell_type": "code",
   "execution_count": 7,
   "metadata": {},
   "outputs": [],
   "source": [
    "def estimate_models(model_dict, X_data, y_data, n_splits=5, shuffle=True):\n",
    "    \n",
    "    results = []\n",
    "    for model_name, model in model_dict.items():\n",
    "\n",
    "        cvs_list, elapsed_time_list = cross_val_scores_fn(\n",
    "            model, \n",
    "            X_data=X_data,\n",
    "            y_data=y_data,\n",
    "            n_splits=n_splits,\n",
    "            shuffle=shuffle\n",
    "        )\n",
    "\n",
    "        print(\"{} : cv score mean : {:.0f}%, scores : {}\".format(\n",
    "            model_name,\n",
    "            np.mean(cvs_list) * 100,\n",
    "            cvs_list\n",
    "        ))\n",
    "        results.append([model_name, len(X_data), np.mean(cvs_list), str(cvs_list), np.mean(elapsed_time_list), str(elapsed_time_list)])\n",
    "\n",
    "    results = pd.DataFrame(results, columns=[\"model_name\", \"data_size\", \"cvs_mean\", \"cvs_list\", \"elapsed_time_mean\", \"elapsed_time_list\"])\n",
    "    return results"
   ]
  },
  {
   "cell_type": "markdown",
   "metadata": {},
   "source": [
    "## irisデータによる検証"
   ]
  },
  {
   "cell_type": "code",
   "execution_count": 8,
   "metadata": {},
   "outputs": [],
   "source": [
    "from sklearn.datasets import load_iris, load_digits\n",
    "\n",
    "iris = load_iris()\n",
    "X_data = iris.data\n",
    "y_data = iris.target"
   ]
  },
  {
   "cell_type": "code",
   "execution_count": 10,
   "metadata": {},
   "outputs": [
    {
     "name": "stdout",
     "output_type": "stream",
     "text": [
      "rf : cv score mean : 97%, scores : [1.0, 0.933, 0.933, 0.967, 1.0]\n",
      "xgb : cv score mean : 95%, scores : [0.933, 0.933, 0.967, 1.0, 0.933]\n"
     ]
    },
    {
     "name": "stderr",
     "output_type": "stream",
     "text": [
      "<deep_forest.CascadeForest object at 0x132af0ac8> - Level 1:: got accuracy 0.95\n",
      "<deep_forest.CascadeForest object at 0x132af0ac8> - Level 2:: got accuracy 0.95\n",
      "<deep_forest.CascadeForest object at 0x132af0ac8> - Level 1:: got accuracy 0.95\n",
      "<deep_forest.CascadeForest object at 0x132af0ac8> - Level 2:: got accuracy 0.975\n",
      "<deep_forest.CascadeForest object at 0x132af0ac8> - Level 3:: got accuracy 0.975\n",
      "<deep_forest.CascadeForest object at 0x132af0ac8> - Level 1:: got accuracy 0.95\n",
      "<deep_forest.CascadeForest object at 0x132af0ac8> - Level 2:: got accuracy 0.9583333333333334\n",
      "<deep_forest.CascadeForest object at 0x132af0ac8> - Level 3:: got accuracy 0.9666666666666667\n",
      "<deep_forest.CascadeForest object at 0x132af0ac8> - Level 4:: got accuracy 0.95\n",
      "<deep_forest.CascadeForest object at 0x132af0ac8> - Level 1:: got accuracy 0.9083333333333333\n",
      "<deep_forest.CascadeForest object at 0x132af0ac8> - Level 2:: got accuracy 0.925\n",
      "<deep_forest.CascadeForest object at 0x132af0ac8> - Level 3:: got accuracy 0.9333333333333333\n",
      "<deep_forest.CascadeForest object at 0x132af0ac8> - Level 4:: got accuracy 0.95\n",
      "<deep_forest.CascadeForest object at 0x132af0ac8> - Level 5:: got accuracy 0.95\n",
      "<deep_forest.CascadeForest object at 0x132af0ac8> - Level 1:: got accuracy 0.9416666666666667\n",
      "<deep_forest.CascadeForest object at 0x132af0ac8> - Level 2:: got accuracy 0.925\n"
     ]
    },
    {
     "name": "stdout",
     "output_type": "stream",
     "text": [
      "mgc_forest : cv score mean : 95%, scores : [0.933, 0.933, 0.933, 0.967, 0.967]\n"
     ]
    },
    {
     "data": {
      "text/html": [
       "<div>\n",
       "<style scoped>\n",
       "    .dataframe tbody tr th:only-of-type {\n",
       "        vertical-align: middle;\n",
       "    }\n",
       "\n",
       "    .dataframe tbody tr th {\n",
       "        vertical-align: top;\n",
       "    }\n",
       "\n",
       "    .dataframe thead th {\n",
       "        text-align: right;\n",
       "    }\n",
       "</style>\n",
       "<table border=\"1\" class=\"dataframe\">\n",
       "  <thead>\n",
       "    <tr style=\"text-align: right;\">\n",
       "      <th></th>\n",
       "      <th>model_name</th>\n",
       "      <th>data_size</th>\n",
       "      <th>cvs_mean</th>\n",
       "      <th>cvs_list</th>\n",
       "      <th>elapsed_time_mean</th>\n",
       "      <th>elapsed_time_list</th>\n",
       "    </tr>\n",
       "  </thead>\n",
       "  <tbody>\n",
       "    <tr>\n",
       "      <td>0</td>\n",
       "      <td>rf</td>\n",
       "      <td>150</td>\n",
       "      <td>0.9666</td>\n",
       "      <td>[1.0, 0.933, 0.933, 0.967, 1.0]</td>\n",
       "      <td>0.132</td>\n",
       "      <td>[0.14, 0.15, 0.12, 0.13, 0.12]</td>\n",
       "    </tr>\n",
       "    <tr>\n",
       "      <td>1</td>\n",
       "      <td>xgb</td>\n",
       "      <td>150</td>\n",
       "      <td>0.9532</td>\n",
       "      <td>[0.933, 0.933, 0.967, 1.0, 0.933]</td>\n",
       "      <td>0.024</td>\n",
       "      <td>[0.04, 0.02, 0.02, 0.02, 0.02]</td>\n",
       "    </tr>\n",
       "    <tr>\n",
       "      <td>2</td>\n",
       "      <td>mgc_forest</td>\n",
       "      <td>150</td>\n",
       "      <td>0.9466</td>\n",
       "      <td>[0.933, 0.933, 0.933, 0.967, 0.967]</td>\n",
       "      <td>10.608</td>\n",
       "      <td>[8.73, 9.34, 12.2, 15.17, 7.6]</td>\n",
       "    </tr>\n",
       "  </tbody>\n",
       "</table>\n",
       "</div>"
      ],
      "text/plain": [
       "   model_name  data_size  cvs_mean                             cvs_list  \\\n",
       "0          rf        150    0.9666      [1.0, 0.933, 0.933, 0.967, 1.0]   \n",
       "1         xgb        150    0.9532    [0.933, 0.933, 0.967, 1.0, 0.933]   \n",
       "2  mgc_forest        150    0.9466  [0.933, 0.933, 0.933, 0.967, 0.967]   \n",
       "\n",
       "   elapsed_time_mean               elapsed_time_list  \n",
       "0              0.132  [0.14, 0.15, 0.12, 0.13, 0.12]  \n",
       "1              0.024  [0.04, 0.02, 0.02, 0.02, 0.02]  \n",
       "2             10.608  [8.73, 9.34, 12.2, 15.17, 7.6]  "
      ]
     },
     "execution_count": 10,
     "metadata": {},
     "output_type": "execute_result"
    }
   ],
   "source": [
    "results = estimate_models(\n",
    "    model_dict=model_dict,\n",
    "    X_data=X_data,\n",
    "    y_data=y_data,\n",
    "    n_splits=5,\n",
    "    shuffle=True\n",
    ")\n",
    "results.to_csv(result_dir_path.joinpath(\"model_estimate_iris.csv\"), index=False)\n",
    "results"
   ]
  },
  {
   "cell_type": "markdown",
   "metadata": {},
   "source": [
    "交差検証の正答率では、Deep Forestが一番低い結果となってしまった。"
   ]
  },
  {
   "cell_type": "markdown",
   "metadata": {},
   "source": [
    "## 乳がんデータによる検証"
   ]
  },
  {
   "cell_type": "code",
   "execution_count": 11,
   "metadata": {},
   "outputs": [],
   "source": [
    "breast_cancer_data = datasets.load_breast_cancer()\n",
    "X_data = breast_cancer_data.data\n",
    "y_data = breast_cancer_data.target"
   ]
  },
  {
   "cell_type": "code",
   "execution_count": 12,
   "metadata": {},
   "outputs": [
    {
     "name": "stdout",
     "output_type": "stream",
     "text": [
      "rf : cv score mean : 96%, scores : [0.939, 0.957, 0.965, 0.973, 0.991]\n",
      "xgb : cv score mean : 97%, scores : [0.974, 0.983, 0.973, 0.965, 0.947]\n"
     ]
    },
    {
     "name": "stderr",
     "output_type": "stream",
     "text": [
      "<deep_forest.CascadeForest object at 0x132af0ac8> - Level 1:: got accuracy 0.9515418502202643\n",
      "<deep_forest.CascadeForest object at 0x132af0ac8> - Level 2:: got accuracy 0.947136563876652\n",
      "<deep_forest.CascadeForest object at 0x132af0ac8> - Level 1:: got accuracy 0.9581497797356828\n",
      "<deep_forest.CascadeForest object at 0x132af0ac8> - Level 2:: got accuracy 0.947136563876652\n",
      "<deep_forest.CascadeForest object at 0x132af0ac8> - Level 1:: got accuracy 0.9429824561403509\n",
      "<deep_forest.CascadeForest object at 0x132af0ac8> - Level 2:: got accuracy 0.9298245614035088\n",
      "<deep_forest.CascadeForest object at 0x132af0ac8> - Level 1:: got accuracy 0.9517543859649122\n",
      "<deep_forest.CascadeForest object at 0x132af0ac8> - Level 2:: got accuracy 0.956140350877193\n",
      "<deep_forest.CascadeForest object at 0x132af0ac8> - Level 3:: got accuracy 0.9517543859649122\n",
      "<deep_forest.CascadeForest object at 0x132af0ac8> - Level 1:: got accuracy 0.9627192982456141\n",
      "<deep_forest.CascadeForest object at 0x132af0ac8> - Level 2:: got accuracy 0.9627192982456141\n"
     ]
    },
    {
     "name": "stdout",
     "output_type": "stream",
     "text": [
      "mgc_forest : cv score mean : 97%, scores : [0.965, 0.957, 0.991, 0.991, 0.947]\n"
     ]
    },
    {
     "data": {
      "text/html": [
       "<div>\n",
       "<style scoped>\n",
       "    .dataframe tbody tr th:only-of-type {\n",
       "        vertical-align: middle;\n",
       "    }\n",
       "\n",
       "    .dataframe tbody tr th {\n",
       "        vertical-align: top;\n",
       "    }\n",
       "\n",
       "    .dataframe thead th {\n",
       "        text-align: right;\n",
       "    }\n",
       "</style>\n",
       "<table border=\"1\" class=\"dataframe\">\n",
       "  <thead>\n",
       "    <tr style=\"text-align: right;\">\n",
       "      <th></th>\n",
       "      <th>model_name</th>\n",
       "      <th>data_size</th>\n",
       "      <th>cvs_mean</th>\n",
       "      <th>cvs_list</th>\n",
       "      <th>elapsed_time_mean</th>\n",
       "      <th>elapsed_time_list</th>\n",
       "    </tr>\n",
       "  </thead>\n",
       "  <tbody>\n",
       "    <tr>\n",
       "      <td>0</td>\n",
       "      <td>rf</td>\n",
       "      <td>569</td>\n",
       "      <td>0.9650</td>\n",
       "      <td>[0.939, 0.957, 0.965, 0.973, 0.991]</td>\n",
       "      <td>0.152</td>\n",
       "      <td>[0.19, 0.15, 0.14, 0.14, 0.14]</td>\n",
       "    </tr>\n",
       "    <tr>\n",
       "      <td>1</td>\n",
       "      <td>xgb</td>\n",
       "      <td>569</td>\n",
       "      <td>0.9684</td>\n",
       "      <td>[0.974, 0.983, 0.973, 0.965, 0.947]</td>\n",
       "      <td>0.086</td>\n",
       "      <td>[0.08, 0.09, 0.09, 0.09, 0.08]</td>\n",
       "    </tr>\n",
       "    <tr>\n",
       "      <td>2</td>\n",
       "      <td>mgc_forest</td>\n",
       "      <td>569</td>\n",
       "      <td>0.9702</td>\n",
       "      <td>[0.965, 0.957, 0.991, 0.991, 0.947]</td>\n",
       "      <td>10.314</td>\n",
       "      <td>[10.87, 9.72, 9.67, 11.67, 9.64]</td>\n",
       "    </tr>\n",
       "  </tbody>\n",
       "</table>\n",
       "</div>"
      ],
      "text/plain": [
       "   model_name  data_size  cvs_mean                             cvs_list  \\\n",
       "0          rf        569    0.9650  [0.939, 0.957, 0.965, 0.973, 0.991]   \n",
       "1         xgb        569    0.9684  [0.974, 0.983, 0.973, 0.965, 0.947]   \n",
       "2  mgc_forest        569    0.9702  [0.965, 0.957, 0.991, 0.991, 0.947]   \n",
       "\n",
       "   elapsed_time_mean                 elapsed_time_list  \n",
       "0              0.152    [0.19, 0.15, 0.14, 0.14, 0.14]  \n",
       "1              0.086    [0.08, 0.09, 0.09, 0.09, 0.08]  \n",
       "2             10.314  [10.87, 9.72, 9.67, 11.67, 9.64]  "
      ]
     },
     "execution_count": 12,
     "metadata": {},
     "output_type": "execute_result"
    }
   ],
   "source": [
    "rf_model = RandomForestClassifier(max_depth=10, n_estimators=100)\n",
    "xgb_model = xgb.XGBClassifier(n_estimators=100)\n",
    "\n",
    "model_dict = {\n",
    "    \"rf\" : rf_model,\n",
    "    \"xgb\" : xgb_model,\n",
    "    \"mgc_forest\" : mgc_forest\n",
    "}\n",
    "\n",
    "\n",
    "results = estimate_models(\n",
    "    model_dict=model_dict,\n",
    "    X_data=X_data,\n",
    "    y_data=y_data,\n",
    "    n_splits=5,\n",
    "    shuffle=True\n",
    ")\n",
    "results.to_csv(result_dir_path.joinpath(\"model_estimate_breast_cancer.csv\"), index=False)\n",
    "results"
   ]
  },
  {
   "cell_type": "markdown",
   "metadata": {
    "deletable": true,
    "editable": true
   },
   "source": [
    "## MNISTデータによる検証"
   ]
  },
  {
   "cell_type": "code",
   "execution_count": 13,
   "metadata": {
    "collapsed": false,
    "deletable": true,
    "editable": true,
    "jupyter": {
     "outputs_hidden": false
    }
   },
   "outputs": [],
   "source": [
    "(X_train, y_train), (X_test, y_test) = mnist.load_data()\n",
    "\n",
    "# 画像形式をベクトルに変換\n",
    "X_train = X_train.reshape((len(X_train), -1))\n",
    "X_test = X_test.reshape((len(X_test), -1))\n",
    "\n",
    "X_test = X_test[:1000]\n",
    "y_test = y_test[:1000]"
   ]
  },
  {
   "cell_type": "code",
   "execution_count": 112,
   "metadata": {},
   "outputs": [
    {
     "name": "stdout",
     "output_type": "stream",
     "text": [
      "End rf 100 : 61%\n",
      "End rf 200 : 69%\n",
      "End rf 500 : 80%\n",
      "End rf 1000 : 86%\n",
      "End rf 2000 : 90%\n",
      "End xgb 100 : 50%\n",
      "End xgb 200 : 63%\n",
      "End xgb 500 : 79%\n",
      "End xgb 1000 : 84%\n",
      "End xgb 2000 : 86%\n"
     ]
    },
    {
     "name": "stderr",
     "output_type": "stream",
     "text": [
      "<deep_forest.CascadeForest object at 0x12c08fcf8> - Level 1:: got accuracy 0.8\n",
      "<deep_forest.CascadeForest object at 0x12c08fcf8> - Level 2:: got accuracy 0.78\n"
     ]
    },
    {
     "name": "stdout",
     "output_type": "stream",
     "text": [
      "End mgc_forest 100 : 72%\n"
     ]
    },
    {
     "name": "stderr",
     "output_type": "stream",
     "text": [
      "<deep_forest.CascadeForest object at 0x12c08fcf8> - Level 1:: got accuracy 0.86\n",
      "<deep_forest.CascadeForest object at 0x12c08fcf8> - Level 2:: got accuracy 0.85\n"
     ]
    },
    {
     "name": "stdout",
     "output_type": "stream",
     "text": [
      "End mgc_forest 200 : 80%\n"
     ]
    },
    {
     "name": "stderr",
     "output_type": "stream",
     "text": [
      "<deep_forest.CascadeForest object at 0x12c08fcf8> - Level 1:: got accuracy 0.914\n",
      "<deep_forest.CascadeForest object at 0x12c08fcf8> - Level 2:: got accuracy 0.922\n",
      "<deep_forest.CascadeForest object at 0x12c08fcf8> - Level 3:: got accuracy 0.922\n"
     ]
    },
    {
     "name": "stdout",
     "output_type": "stream",
     "text": [
      "End mgc_forest 500 : 91%\n"
     ]
    },
    {
     "name": "stderr",
     "output_type": "stream",
     "text": [
      "<deep_forest.CascadeForest object at 0x12c08fcf8> - Level 1:: got accuracy 0.937\n",
      "<deep_forest.CascadeForest object at 0x12c08fcf8> - Level 2:: got accuracy 0.941\n",
      "<deep_forest.CascadeForest object at 0x12c08fcf8> - Level 3:: got accuracy 0.942\n",
      "<deep_forest.CascadeForest object at 0x12c08fcf8> - Level 4:: got accuracy 0.945\n",
      "<deep_forest.CascadeForest object at 0x12c08fcf8> - Level 5:: got accuracy 0.941\n"
     ]
    },
    {
     "name": "stdout",
     "output_type": "stream",
     "text": [
      "End mgc_forest 1000 : 93%\n"
     ]
    },
    {
     "name": "stderr",
     "output_type": "stream",
     "text": [
      "<deep_forest.CascadeForest object at 0x12c08fcf8> - Level 1:: got accuracy 0.958\n",
      "<deep_forest.CascadeForest object at 0x12c08fcf8> - Level 2:: got accuracy 0.958\n"
     ]
    },
    {
     "name": "stdout",
     "output_type": "stream",
     "text": [
      "End mgc_forest 2000 : 95%\n"
     ]
    },
    {
     "data": {
      "text/html": [
       "<div>\n",
       "<style scoped>\n",
       "    .dataframe tbody tr th:only-of-type {\n",
       "        vertical-align: middle;\n",
       "    }\n",
       "\n",
       "    .dataframe tbody tr th {\n",
       "        vertical-align: top;\n",
       "    }\n",
       "\n",
       "    .dataframe thead th {\n",
       "        text-align: right;\n",
       "    }\n",
       "</style>\n",
       "<table border=\"1\" class=\"dataframe\">\n",
       "  <thead>\n",
       "    <tr style=\"text-align: right;\">\n",
       "      <th></th>\n",
       "      <th>model_name</th>\n",
       "      <th>data_size</th>\n",
       "      <th>elapsed_time</th>\n",
       "      <th>accuracy</th>\n",
       "    </tr>\n",
       "  </thead>\n",
       "  <tbody>\n",
       "    <tr>\n",
       "      <td>0</td>\n",
       "      <td>rf</td>\n",
       "      <td>100</td>\n",
       "      <td>0.133338</td>\n",
       "      <td>0.611</td>\n",
       "    </tr>\n",
       "    <tr>\n",
       "      <td>1</td>\n",
       "      <td>rf</td>\n",
       "      <td>200</td>\n",
       "      <td>0.148678</td>\n",
       "      <td>0.686</td>\n",
       "    </tr>\n",
       "    <tr>\n",
       "      <td>2</td>\n",
       "      <td>rf</td>\n",
       "      <td>500</td>\n",
       "      <td>0.208254</td>\n",
       "      <td>0.803</td>\n",
       "    </tr>\n",
       "    <tr>\n",
       "      <td>3</td>\n",
       "      <td>rf</td>\n",
       "      <td>1000</td>\n",
       "      <td>0.342210</td>\n",
       "      <td>0.855</td>\n",
       "    </tr>\n",
       "    <tr>\n",
       "      <td>4</td>\n",
       "      <td>rf</td>\n",
       "      <td>2000</td>\n",
       "      <td>0.625249</td>\n",
       "      <td>0.895</td>\n",
       "    </tr>\n",
       "    <tr>\n",
       "      <td>5</td>\n",
       "      <td>xgb</td>\n",
       "      <td>100</td>\n",
       "      <td>3.732999</td>\n",
       "      <td>0.503</td>\n",
       "    </tr>\n",
       "    <tr>\n",
       "      <td>6</td>\n",
       "      <td>xgb</td>\n",
       "      <td>200</td>\n",
       "      <td>7.309971</td>\n",
       "      <td>0.634</td>\n",
       "    </tr>\n",
       "    <tr>\n",
       "      <td>7</td>\n",
       "      <td>xgb</td>\n",
       "      <td>500</td>\n",
       "      <td>18.023113</td>\n",
       "      <td>0.787</td>\n",
       "    </tr>\n",
       "    <tr>\n",
       "      <td>8</td>\n",
       "      <td>xgb</td>\n",
       "      <td>1000</td>\n",
       "      <td>42.206646</td>\n",
       "      <td>0.843</td>\n",
       "    </tr>\n",
       "    <tr>\n",
       "      <td>9</td>\n",
       "      <td>xgb</td>\n",
       "      <td>2000</td>\n",
       "      <td>89.158615</td>\n",
       "      <td>0.863</td>\n",
       "    </tr>\n",
       "    <tr>\n",
       "      <td>10</td>\n",
       "      <td>mgc_forest</td>\n",
       "      <td>100</td>\n",
       "      <td>61.691635</td>\n",
       "      <td>0.716</td>\n",
       "    </tr>\n",
       "    <tr>\n",
       "      <td>11</td>\n",
       "      <td>mgc_forest</td>\n",
       "      <td>200</td>\n",
       "      <td>135.768247</td>\n",
       "      <td>0.797</td>\n",
       "    </tr>\n",
       "    <tr>\n",
       "      <td>12</td>\n",
       "      <td>mgc_forest</td>\n",
       "      <td>500</td>\n",
       "      <td>420.370901</td>\n",
       "      <td>0.912</td>\n",
       "    </tr>\n",
       "    <tr>\n",
       "      <td>13</td>\n",
       "      <td>mgc_forest</td>\n",
       "      <td>1000</td>\n",
       "      <td>1209.710879</td>\n",
       "      <td>0.934</td>\n",
       "    </tr>\n",
       "    <tr>\n",
       "      <td>14</td>\n",
       "      <td>mgc_forest</td>\n",
       "      <td>2000</td>\n",
       "      <td>2806.364700</td>\n",
       "      <td>0.953</td>\n",
       "    </tr>\n",
       "  </tbody>\n",
       "</table>\n",
       "</div>"
      ],
      "text/plain": [
       "    model_name  data_size  elapsed_time  accuracy\n",
       "0           rf        100      0.133338     0.611\n",
       "1           rf        200      0.148678     0.686\n",
       "2           rf        500      0.208254     0.803\n",
       "3           rf       1000      0.342210     0.855\n",
       "4           rf       2000      0.625249     0.895\n",
       "5          xgb        100      3.732999     0.503\n",
       "6          xgb        200      7.309971     0.634\n",
       "7          xgb        500     18.023113     0.787\n",
       "8          xgb       1000     42.206646     0.843\n",
       "9          xgb       2000     89.158615     0.863\n",
       "10  mgc_forest        100     61.691635     0.716\n",
       "11  mgc_forest        200    135.768247     0.797\n",
       "12  mgc_forest        500    420.370901     0.912\n",
       "13  mgc_forest       1000   1209.710879     0.934\n",
       "14  mgc_forest       2000   2806.364700     0.953"
      ]
     },
     "execution_count": 112,
     "metadata": {},
     "output_type": "execute_result"
    }
   ],
   "source": [
    "rf_model = RandomForestClassifier(n_estimators=100, max_depth=10)\n",
    "xgb_model = xgb.XGBClassifier(n_estimators=100, max_depth=10)\n",
    "\n",
    "model_dict = {\n",
    "    \"rf\" : rf_model,\n",
    "    \"xgb\" : xgb_model,\n",
    "    \"mgc_forest\" : mgc_forest\n",
    "}\n",
    "\n",
    "results = []\n",
    "for model_name, model in model_dict.items():\n",
    "    \n",
    "    for data_size in [100, 200, 500, 1000, 2000]:\n",
    "        \n",
    "        X_train_ = X_train[:data_size]\n",
    "        y_train_ = y_train[:data_size]\n",
    "\n",
    "        start_time = time.time()\n",
    "\n",
    "        model.fit(X_train_, y_train_)\n",
    "\n",
    "        end_time = time.time()\n",
    "\n",
    "        acc = accuracy_score(y_test, model.predict(X_test))\n",
    "        results.append([model_name, data_size, end_time - start_time, acc])\n",
    "        print(\"End {} {} : {:.0f}%\".format(model_name, data_size, acc*100))\n",
    "\n",
    "results = pd.DataFrame(results, columns=[\"model_name\", \"data_size\", \"elapsed_time\", \"accuracy\"])\n",
    "results.to_csv(result_dir_path.joinpath(\"model_estimate_mnist.csv\"), index=False)\n",
    "results"
   ]
  },
  {
   "cell_type": "code",
   "execution_count": null,
   "metadata": {},
   "outputs": [],
   "source": []
  }
 ],
 "metadata": {
  "kernelspec": {
   "display_name": "Python 3",
   "language": "python",
   "name": "python3"
  },
  "language_info": {
   "codemirror_mode": {
    "name": "ipython",
    "version": 3
   },
   "file_extension": ".py",
   "mimetype": "text/x-python",
   "name": "python",
   "nbconvert_exporter": "python",
   "pygments_lexer": "ipython3",
   "version": "3.7.1"
  }
 },
 "nbformat": 4,
 "nbformat_minor": 4
}
